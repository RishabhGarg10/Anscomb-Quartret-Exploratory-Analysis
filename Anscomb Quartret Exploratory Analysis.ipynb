{
 "cells": [
  {
   "cell_type": "code",
   "execution_count": 7,
   "metadata": {},
   "outputs": [
    {
     "name": "stdout",
     "output_type": "stream",
     "text": [
      "9.0\n",
      "3.32\n",
      "7.5\n",
      "2.03\n",
      "0.816\n"
     ]
    }
   ],
   "source": [
    "import pandas as pd\n",
    "import statistics\n",
    "from scipy.stats import pearsonr\n",
    "  \n",
    "df = pd.read_csv(r\"C:\\Users\\risha\\Downloads\\anscombe.csv\")\n",
    "  \n",
    "# Convert pandas dataframe into pandas series\n",
    "list1 = df['x1']\n",
    "list2 = df['y1']\n",
    "  \n",
    "# Calculating mean for x1\n",
    "print('%.1f' % statistics.mean(list1))\n",
    "  \n",
    "# Calculating standard deviation for x1\n",
    "print('%.2f' % statistics.stdev(list1))\n",
    "  \n",
    "# Calculating mean for y1\n",
    "print('%.1f' % statistics.mean(list2))\n",
    "  \n",
    "# Calculating standard deviation for y1\n",
    "print('%.2f' % statistics.stdev(list2))\n",
    "  \n",
    "# Calculating pearson correlation\n",
    "corr, _ = pearsonr(list1, list2)\n",
    "print('%.3f' % corr)\n"
   ]
  },
  {
   "cell_type": "code",
   "execution_count": 8,
   "metadata": {},
   "outputs": [
    {
     "name": "stdout",
     "output_type": "stream",
     "text": [
      "    x1  x2  x3  x4     y1    y2     y3     y4\n",
      "0   10  10  10   8   8.04  9.14   7.46   6.58\n",
      "1    8   8   8   8   6.95  8.14   6.77   5.76\n",
      "2   13  13  13   8   7.58  8.74  12.74   7.71\n",
      "3    9   9   9   8   8.81  8.77   7.11   8.84\n",
      "4   11  11  11   8   8.33  9.26   7.81   8.47\n",
      "5   14  14  14   8   9.96  8.10   8.84   7.04\n",
      "6    6   6   6   8   7.24  6.13   6.08   5.25\n",
      "7    4   4   4  19   4.26  3.10   5.39  12.50\n",
      "8   12  12  12   8  10.84  9.13   8.15   5.56\n",
      "9    7   7   7   8   4.82  7.26   6.42   7.91\n",
      "10   5   5   5   8   5.68  4.74   5.73   6.89\n"
     ]
    }
   ],
   "source": [
    "#Calculating the main dataframe\n",
    "print(df)"
   ]
  },
  {
   "cell_type": "code",
   "execution_count": 10,
   "metadata": {},
   "outputs": [
    {
     "data": {
      "image/png": "[encoded data removed]",
      "text/plain": [
       "<Figure size 432x288 with 1 Axes>"
      ]
     },
     "metadata": {
      "needs_background": "light"
     },
     "output_type": "display_data"
    }
   ],
   "source": [
    "from matplotlib import pyplot as plt\n",
    "import pandas as pd\n",
    "  \n",
    "# Import the csv file\n",
    "df = pd.read_csv(r\"C:\\Users\\risha\\Downloads\\anscombe.csv\")\n",
    "  \n",
    "# Convert pandas dataframe into pandas series\n",
    "list1 = df['x1']\n",
    "list2 = df['y1']\n",
    "  \n",
    "# Function to plot scatter\n",
    "plt.scatter(list1, list2)\n",
    "  \n",
    "# Function to show the plot\n",
    "plt.show()"
   ]
  }
 ],
 "metadata": {
  "kernelspec": {
   "display_name": "Python 3",
   "language": "python",
   "name": "python3"
  },
  "language_info": {
   "codemirror_mode": {
    "name": "ipython",
    "version": 3
   },
   "file_extension": ".py",
   "mimetype": "text/x-python",
   "name": "python",
   "nbconvert_exporter": "python",
   "pygments_lexer": "ipython3",
   "version": "3.7.4"
  }
 },
 "nbformat": 4,
 "nbformat_minor": 2
}
